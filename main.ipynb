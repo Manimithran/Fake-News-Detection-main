{
 "cells": [
  {
   "cell_type": "code",
   "execution_count": 1,
   "metadata": {},
   "outputs": [],
   "source": [
    "import pandas as pd\n",
    "import numpy as np\n",
    "\n",
    "from bs4 import BeautifulSoup\n",
    "import re\n",
    "import nltk\n",
    "from nltk.corpus import stopwords\n",
    "from nltk.stem import WordNetLemmatizer\n",
    "\n",
    "from sklearn.model_selection import train_test_split\n",
    "from sklearn.feature_extraction.text import TfidfVectorizer\n",
    "from sklearn.linear_model import LogisticRegression\n",
    "from sklearn.svm import LinearSVC\n",
    "from sklearn.metrics import classification_report\n",
    "\n",
    "from imblearn.over_sampling import SMOTE\n",
    "from imblearn.pipeline import Pipeline as imbpipeline\n",
    "\n",
    "from joblib import dump"
   ]
  },
  {
   "cell_type": "code",
   "execution_count": 2,
   "metadata": {},
   "outputs": [],
   "source": [
    "\n",
    "df1 = pd.read_csv(\"./dataset/gossipcop_real.csv\", usecols = ['title'])\n",
    "df2 = pd.read_csv(\"./dataset/politifact_real.csv\", usecols = ['title'])\n",
    "df3 = pd.read_csv(\"./dataset/gossipcop_fake.csv\", usecols = ['title'])\n",
    "df4 = pd.read_csv(\"./dataset/politifact_fake.csv\", usecols = ['title'])"
   ]
  },
  {
   "cell_type": "code",
   "execution_count": 3,
   "metadata": {},
   "outputs": [],
   "source": [
    "\n",
    "df_real = pd.concat([df1, df2], axis=0)\n",
    "df_fake = pd.concat([df3, df4], axis=0)"
   ]
  },
  {
   "cell_type": "code",
   "execution_count": 4,
   "metadata": {},
   "outputs": [
    {
     "name": "stdout",
     "output_type": "stream",
     "text": [
      "title    0\n",
      "dtype: int64\n",
      "title    0\n",
      "dtype: int64\n"
     ]
    }
   ],
   "source": [
    "\n",
    "df_real[df_real.loc[:,:] == ' '] = np.NaN\n",
    "print(df_real.isna().sum())\n",
    "df_fake[df_fake.loc[:,:] == ' '] = np.NaN\n",
    "print(df_fake.isna().sum())"
   ]
  },
  {
   "cell_type": "code",
   "execution_count": 5,
   "metadata": {},
   "outputs": [
    {
     "data": {
      "text/html": [
       "<div>\n",
       "<style scoped>\n",
       "    .dataframe tbody tr th:only-of-type {\n",
       "        vertical-align: middle;\n",
       "    }\n",
       "\n",
       "    .dataframe tbody tr th {\n",
       "        vertical-align: top;\n",
       "    }\n",
       "\n",
       "    .dataframe thead th {\n",
       "        text-align: right;\n",
       "    }\n",
       "</style>\n",
       "<table border=\"1\" class=\"dataframe\">\n",
       "  <thead>\n",
       "    <tr style=\"text-align: right;\">\n",
       "      <th></th>\n",
       "      <th>title</th>\n",
       "      <th>label</th>\n",
       "    </tr>\n",
       "  </thead>\n",
       "  <tbody>\n",
       "    <tr>\n",
       "      <th>0</th>\n",
       "      <td>Teen Mom Star Jenelle Evans' Wedding Dress Is ...</td>\n",
       "      <td>0</td>\n",
       "    </tr>\n",
       "    <tr>\n",
       "      <th>1</th>\n",
       "      <td>Kylie Jenner refusing to discuss Tyga on Life ...</td>\n",
       "      <td>0</td>\n",
       "    </tr>\n",
       "    <tr>\n",
       "      <th>3</th>\n",
       "      <td>I Tried Kim Kardashian's Butt Workout &amp; Am For...</td>\n",
       "      <td>0</td>\n",
       "    </tr>\n",
       "    <tr>\n",
       "      <th>4</th>\n",
       "      <td>Celine Dion donates concert proceeds to Vegas ...</td>\n",
       "      <td>0</td>\n",
       "    </tr>\n",
       "    <tr>\n",
       "      <th>5</th>\n",
       "      <td>Chris Evans, Millie Bobby Brown, Snoop Dogg an...</td>\n",
       "      <td>0</td>\n",
       "    </tr>\n",
       "    <tr>\n",
       "      <th>...</th>\n",
       "      <td>...</td>\n",
       "      <td>...</td>\n",
       "    </tr>\n",
       "    <tr>\n",
       "      <th>618</th>\n",
       "      <td>Trump asking Congress, not Mexico, to pay for ...</td>\n",
       "      <td>0</td>\n",
       "    </tr>\n",
       "    <tr>\n",
       "      <th>619</th>\n",
       "      <td>Flake: “Religious tests should have no place i...</td>\n",
       "      <td>0</td>\n",
       "    </tr>\n",
       "    <tr>\n",
       "      <th>620</th>\n",
       "      <td>Change We Can Believe In</td>\n",
       "      <td>0</td>\n",
       "    </tr>\n",
       "    <tr>\n",
       "      <th>621</th>\n",
       "      <td>deputy director of national health statistics ...</td>\n",
       "      <td>0</td>\n",
       "    </tr>\n",
       "    <tr>\n",
       "      <th>622</th>\n",
       "      <td>Romneys ProLife Conversion Myth or Reality Jun...</td>\n",
       "      <td>0</td>\n",
       "    </tr>\n",
       "  </tbody>\n",
       "</table>\n",
       "<p>16460 rows × 2 columns</p>\n",
       "</div>"
      ],
      "text/plain": [
       "                                                 title  label\n",
       "0    Teen Mom Star Jenelle Evans' Wedding Dress Is ...      0\n",
       "1    Kylie Jenner refusing to discuss Tyga on Life ...      0\n",
       "3    I Tried Kim Kardashian's Butt Workout & Am For...      0\n",
       "4    Celine Dion donates concert proceeds to Vegas ...      0\n",
       "5    Chris Evans, Millie Bobby Brown, Snoop Dogg an...      0\n",
       "..                                                 ...    ...\n",
       "618  Trump asking Congress, not Mexico, to pay for ...      0\n",
       "619  Flake: “Religious tests should have no place i...      0\n",
       "620                           Change We Can Believe In      0\n",
       "621  deputy director of national health statistics ...      0\n",
       "622  Romneys ProLife Conversion Myth or Reality Jun...      0\n",
       "\n",
       "[16460 rows x 2 columns]"
      ]
     },
     "execution_count": 5,
     "metadata": {},
     "output_type": "execute_result"
    }
   ],
   "source": [
    "\n",
    "df_real = df_real[~df_real.title.str.count('\\s+').lt(4)]\n",
    "\n",
    "\n",
    "df_real['label'] = 0\n",
    "df_real"
   ]
  },
  {
   "cell_type": "code",
   "execution_count": 6,
   "metadata": {},
   "outputs": [
    {
     "data": {
      "text/html": [
       "<div>\n",
       "<style scoped>\n",
       "    .dataframe tbody tr th:only-of-type {\n",
       "        vertical-align: middle;\n",
       "    }\n",
       "\n",
       "    .dataframe tbody tr th {\n",
       "        vertical-align: top;\n",
       "    }\n",
       "\n",
       "    .dataframe thead th {\n",
       "        text-align: right;\n",
       "    }\n",
       "</style>\n",
       "<table border=\"1\" class=\"dataframe\">\n",
       "  <thead>\n",
       "    <tr style=\"text-align: right;\">\n",
       "      <th></th>\n",
       "      <th>title</th>\n",
       "      <th>label</th>\n",
       "    </tr>\n",
       "  </thead>\n",
       "  <tbody>\n",
       "    <tr>\n",
       "      <th>0</th>\n",
       "      <td>Did Miley Cyrus and Liam Hemsworth secretly ge...</td>\n",
       "      <td>1</td>\n",
       "    </tr>\n",
       "    <tr>\n",
       "      <th>1</th>\n",
       "      <td>Paris Jackson &amp; Cara Delevingne Enjoy Night Ou...</td>\n",
       "      <td>1</td>\n",
       "    </tr>\n",
       "    <tr>\n",
       "      <th>2</th>\n",
       "      <td>Celebrities Join Tax March in Protest of Donal...</td>\n",
       "      <td>1</td>\n",
       "    </tr>\n",
       "    <tr>\n",
       "      <th>3</th>\n",
       "      <td>Cindy Crawford's daughter Kaia Gerber wears a ...</td>\n",
       "      <td>1</td>\n",
       "    </tr>\n",
       "    <tr>\n",
       "      <th>4</th>\n",
       "      <td>Full List of 2018 Oscar Nominations – Variety</td>\n",
       "      <td>1</td>\n",
       "    </tr>\n",
       "    <tr>\n",
       "      <th>...</th>\n",
       "      <td>...</td>\n",
       "      <td>...</td>\n",
       "    </tr>\n",
       "    <tr>\n",
       "      <th>426</th>\n",
       "      <td>BUSTED: Russian Mansions Obama Seized Were Mea...</td>\n",
       "      <td>1</td>\n",
       "    </tr>\n",
       "    <tr>\n",
       "      <th>427</th>\n",
       "      <td>Who is affected by the government shutdown?</td>\n",
       "      <td>1</td>\n",
       "    </tr>\n",
       "    <tr>\n",
       "      <th>428</th>\n",
       "      <td>Lindsey Graham Threatens To Convert To Democra...</td>\n",
       "      <td>1</td>\n",
       "    </tr>\n",
       "    <tr>\n",
       "      <th>429</th>\n",
       "      <td>ELECTORAL COLLEGE ELECTOR COMMITS SUICIDE TO A...</td>\n",
       "      <td>1</td>\n",
       "    </tr>\n",
       "    <tr>\n",
       "      <th>430</th>\n",
       "      <td>Sarah Palin Calls To Boycott Mall Of America B...</td>\n",
       "      <td>1</td>\n",
       "    </tr>\n",
       "  </tbody>\n",
       "</table>\n",
       "<p>5433 rows × 2 columns</p>\n",
       "</div>"
      ],
      "text/plain": [
       "                                                 title  label\n",
       "0    Did Miley Cyrus and Liam Hemsworth secretly ge...      1\n",
       "1    Paris Jackson & Cara Delevingne Enjoy Night Ou...      1\n",
       "2    Celebrities Join Tax March in Protest of Donal...      1\n",
       "3    Cindy Crawford's daughter Kaia Gerber wears a ...      1\n",
       "4        Full List of 2018 Oscar Nominations – Variety      1\n",
       "..                                                 ...    ...\n",
       "426  BUSTED: Russian Mansions Obama Seized Were Mea...      1\n",
       "427        Who is affected by the government shutdown?      1\n",
       "428  Lindsey Graham Threatens To Convert To Democra...      1\n",
       "429  ELECTORAL COLLEGE ELECTOR COMMITS SUICIDE TO A...      1\n",
       "430  Sarah Palin Calls To Boycott Mall Of America B...      1\n",
       "\n",
       "[5433 rows x 2 columns]"
      ]
     },
     "execution_count": 6,
     "metadata": {},
     "output_type": "execute_result"
    }
   ],
   "source": [
    "\n",
    "df_fake = df_fake[~df_fake.title.str.count('\\s+').lt(4)]\n",
    "\n",
    "\n",
    "df_fake['label'] = 1\n",
    "df_fake"
   ]
  },
  {
   "cell_type": "code",
   "execution_count": 7,
   "metadata": {},
   "outputs": [
    {
     "data": {
      "text/html": [
       "<div>\n",
       "<style scoped>\n",
       "    .dataframe tbody tr th:only-of-type {\n",
       "        vertical-align: middle;\n",
       "    }\n",
       "\n",
       "    .dataframe tbody tr th {\n",
       "        vertical-align: top;\n",
       "    }\n",
       "\n",
       "    .dataframe thead th {\n",
       "        text-align: right;\n",
       "    }\n",
       "</style>\n",
       "<table border=\"1\" class=\"dataframe\">\n",
       "  <thead>\n",
       "    <tr style=\"text-align: right;\">\n",
       "      <th></th>\n",
       "      <th>title</th>\n",
       "      <th>label</th>\n",
       "    </tr>\n",
       "  </thead>\n",
       "  <tbody>\n",
       "    <tr>\n",
       "      <th>4232</th>\n",
       "      <td>Jennifer Aniston Justin Theroux Explosive Show...</td>\n",
       "      <td>1</td>\n",
       "    </tr>\n",
       "    <tr>\n",
       "      <th>11672</th>\n",
       "      <td>Andy Samberg wants celeb fans to guest star on...</td>\n",
       "      <td>0</td>\n",
       "    </tr>\n",
       "    <tr>\n",
       "      <th>12191</th>\n",
       "      <td>'Young and the Restless' actor Corey Sligh con...</td>\n",
       "      <td>0</td>\n",
       "    </tr>\n",
       "    <tr>\n",
       "      <th>2731</th>\n",
       "      <td>Brad Pitt &amp; Neri Oxman: Amal Clooney Reportedl...</td>\n",
       "      <td>1</td>\n",
       "    </tr>\n",
       "    <tr>\n",
       "      <th>2579</th>\n",
       "      <td>Kanye West Is Reportedly Heading For Another B...</td>\n",
       "      <td>1</td>\n",
       "    </tr>\n",
       "    <tr>\n",
       "      <th>...</th>\n",
       "      <td>...</td>\n",
       "      <td>...</td>\n",
       "    </tr>\n",
       "    <tr>\n",
       "      <th>4115</th>\n",
       "      <td>Kim Kardashian Says Her Waist Is 24 Inches—And...</td>\n",
       "      <td>0</td>\n",
       "    </tr>\n",
       "    <tr>\n",
       "      <th>7118</th>\n",
       "      <td>Serena Williams' Royal Wedding Reception Look ...</td>\n",
       "      <td>0</td>\n",
       "    </tr>\n",
       "    <tr>\n",
       "      <th>12388</th>\n",
       "      <td>Why Lisa Vanderpump Won’t Officiate Jax Taylor...</td>\n",
       "      <td>0</td>\n",
       "    </tr>\n",
       "    <tr>\n",
       "      <th>9790</th>\n",
       "      <td>Best Style Moments From the 2018 Grammys</td>\n",
       "      <td>0</td>\n",
       "    </tr>\n",
       "    <tr>\n",
       "      <th>1259</th>\n",
       "      <td>Lin-Manuel Miranda Talks 'Almost Like Praying'...</td>\n",
       "      <td>1</td>\n",
       "    </tr>\n",
       "  </tbody>\n",
       "</table>\n",
       "<p>21893 rows × 2 columns</p>\n",
       "</div>"
      ],
      "text/plain": [
       "                                                   title  label\n",
       "4232   Jennifer Aniston Justin Theroux Explosive Show...      1\n",
       "11672  Andy Samberg wants celeb fans to guest star on...      0\n",
       "12191  'Young and the Restless' actor Corey Sligh con...      0\n",
       "2731   Brad Pitt & Neri Oxman: Amal Clooney Reportedl...      1\n",
       "2579   Kanye West Is Reportedly Heading For Another B...      1\n",
       "...                                                  ...    ...\n",
       "4115   Kim Kardashian Says Her Waist Is 24 Inches—And...      0\n",
       "7118   Serena Williams' Royal Wedding Reception Look ...      0\n",
       "12388  Why Lisa Vanderpump Won’t Officiate Jax Taylor...      0\n",
       "9790            Best Style Moments From the 2018 Grammys      0\n",
       "1259   Lin-Manuel Miranda Talks 'Almost Like Praying'...      1\n",
       "\n",
       "[21893 rows x 2 columns]"
      ]
     },
     "execution_count": 7,
     "metadata": {},
     "output_type": "execute_result"
    }
   ],
   "source": [
    "df = pd.concat([df_real, df_fake])\n",
    "\n",
    "df = df.sample(frac=1)\n",
    "df"
   ]
  },
  {
   "cell_type": "code",
   "execution_count": 8,
   "metadata": {},
   "outputs": [
    {
     "data": {
      "text/plain": [
       "0    16460\n",
       "1     5433\n",
       "Name: label, dtype: int64"
      ]
     },
     "execution_count": 8,
     "metadata": {},
     "output_type": "execute_result"
    }
   ],
   "source": [
    "\n",
    "df.label.value_counts()"
   ]
  },
  {
   "cell_type": "code",
   "execution_count": 9,
   "metadata": {},
   "outputs": [
    {
     "name": "stderr",
     "output_type": "stream",
     "text": [
      "[nltk_data] Downloading package stopwords to\n",
      "[nltk_data]     C:\\Users\\Lenovo\\AppData\\Roaming\\nltk_data...\n",
      "[nltk_data]   Package stopwords is already up-to-date!\n"
     ]
    },
    {
     "data": {
      "text/plain": [
       "True"
      ]
     },
     "execution_count": 9,
     "metadata": {},
     "output_type": "execute_result"
    }
   ],
   "source": [
    "\n",
    "nltk.download('stopwords')"
   ]
  },
  {
   "cell_type": "code",
   "execution_count": 10,
   "metadata": {},
   "outputs": [
    {
     "name": "stderr",
     "output_type": "stream",
     "text": [
      "[nltk_data] Downloading package wordnet to\n",
      "[nltk_data]     C:\\Users\\Lenovo\\AppData\\Roaming\\nltk_data...\n",
      "[nltk_data]   Package wordnet is already up-to-date!\n"
     ]
    },
    {
     "data": {
      "text/plain": [
       "True"
      ]
     },
     "execution_count": 10,
     "metadata": {},
     "output_type": "execute_result"
    }
   ],
   "source": [
    "\n",
    "nltk.download('wordnet')"
   ]
  },
  {
   "cell_type": "code",
   "execution_count": 11,
   "metadata": {},
   "outputs": [],
   "source": [
    "# Text preprocessing\n",
    "def preprocessing(tweet):\n",
    "  text = BeautifulSoup(tweet).get_text() \n",
    "  text = re.sub(\"[^a-zA-Z#]\", \" \", text)\n",
    "  text = re.sub('((www.[^s]+)|(https?://[^s]+))',' ', text) \n",
    "  text = text.lower().split() \n",
    "\n",
    "  stop_w = set(stopwords.words(\"english\"))\n",
    "  text = [w for w in text if not w in stop_w]\n",
    "  text = [WordNetLemmatizer().lemmatize(w) for w in text] \n",
    "\n",
    "  return (\" \".join(text)) "
   ]
  },
  {
   "cell_type": "code",
   "execution_count": 12,
   "metadata": {},
   "outputs": [
    {
     "data": {
      "text/plain": [
       "4232     jennifer aniston justin theroux explosive show...\n",
       "11672    andy samberg want celeb fan guest star brookly...\n",
       "12191    young restless actor corey sligh convicted chi...\n",
       "2731     brad pitt neri oxman amal clooney reportedly i...\n",
       "2579     kanye west reportedly heading another breakdow...\n",
       "Name: title, dtype: object"
      ]
     },
     "execution_count": 12,
     "metadata": {},
     "output_type": "execute_result"
    }
   ],
   "source": [
    "\n",
    "df['title'] = df['title'].apply(lambda text: preprocessing(text))\n",
    "df['title'].head()"
   ]
  },
  {
   "cell_type": "code",
   "execution_count": 13,
   "metadata": {},
   "outputs": [
    {
     "data": {
      "text/plain": [
       "((17514, 2), (4379, 2))"
      ]
     },
     "execution_count": 13,
     "metadata": {},
     "output_type": "execute_result"
    }
   ],
   "source": [
    "\n",
    "train, test = train_test_split(df, test_size = 0.2, stratify = df['label'], random_state = 42)\n",
    "\n",
    "\n",
    "train.shape, test.shape"
   ]
  },
  {
   "cell_type": "code",
   "execution_count": 14,
   "metadata": {},
   "outputs": [],
   "source": [
    "\n",
    "tfidf_vec = TfidfVectorizer(max_features=10000, ngram_range=(1, 3))\n",
    "\n",
    "train_df = tfidf_vec.fit_transform(train.title)\n",
    "test_df  = tfidf_vec.transform(test.title)"
   ]
  },
  {
   "cell_type": "code",
   "execution_count": 15,
   "metadata": {},
   "outputs": [
    {
     "data": {
      "text/plain": [
       "0    13168\n",
       "1     4346\n",
       "Name: label, dtype: int64"
      ]
     },
     "execution_count": 15,
     "metadata": {},
     "output_type": "execute_result"
    }
   ],
   "source": [
    "# Before over-sampling the minority class\n",
    "train['label'].value_counts()"
   ]
  },
  {
   "cell_type": "code",
   "execution_count": 16,
   "metadata": {},
   "outputs": [],
   "source": [
    "\n",
    "smt = SMOTE(random_state = 18, sampling_strategy = 1.0)\n",
    "smt_xtrain_df, smt_ytrain = smt.fit_resample(train_df, train.label)"
   ]
  },
  {
   "cell_type": "code",
   "execution_count": 17,
   "metadata": {},
   "outputs": [
    {
     "data": {
      "text/plain": [
       "0    13168\n",
       "1    13168\n",
       "Name: label, dtype: int64"
      ]
     },
     "execution_count": 17,
     "metadata": {},
     "output_type": "execute_result"
    }
   ],
   "source": [
    "\n",
    "smt_ytrain.value_counts()"
   ]
  },
  {
   "cell_type": "code",
   "execution_count": 18,
   "metadata": {},
   "outputs": [
    {
     "name": "stdout",
     "output_type": "stream",
     "text": [
      "              precision    recall  f1-score   support\n",
      "\n",
      "    Negative       0.91      0.85      0.88      3292\n",
      "    Positive       0.63      0.75      0.68      1087\n",
      "\n",
      "    accuracy                           0.83      4379\n",
      "   macro avg       0.77      0.80      0.78      4379\n",
      "weighted avg       0.84      0.83      0.83      4379\n",
      "\n"
     ]
    }
   ],
   "source": [
    "\n",
    "logis_reg = LogisticRegression()\n",
    "logis_reg.fit(smt_xtrain_df, smt_ytrain)\n",
    "\n",
    "y_pred = logis_reg.predict(test_df)\n",
    "\n",
    "print(classification_report(test.label, y_pred, target_names=['Negative', 'Positive']))"
   ]
  },
  {
   "cell_type": "code",
   "execution_count": 19,
   "metadata": {},
   "outputs": [
    {
     "name": "stdout",
     "output_type": "stream",
     "text": [
      "              precision    recall  f1-score   support\n",
      "\n",
      "    Negative       0.90      0.85      0.87      3292\n",
      "    Positive       0.61      0.71      0.65      1087\n",
      "\n",
      "    accuracy                           0.81      4379\n",
      "   macro avg       0.75      0.78      0.76      4379\n",
      "weighted avg       0.83      0.81      0.82      4379\n",
      "\n"
     ]
    }
   ],
   "source": [
    "\n",
    "linear_svc = LinearSVC()\n",
    "linear_svc.fit(smt_xtrain_df, smt_ytrain)\n",
    "\n",
    "y_pred = linear_svc.predict(test_df)\n",
    "\n",
    "print(classification_report(test.label, y_pred, target_names=['Negative', 'Positive']))"
   ]
  },
  {
   "cell_type": "code",
   "execution_count": 20,
   "metadata": {},
   "outputs": [
    {
     "data": {
      "text/plain": [
       "Pipeline(steps=[('tfidf',\n",
       "                 TfidfVectorizer(max_features=10000, ngram_range=(1, 3))),\n",
       "                ('smote', SMOTE(random_state=18, sampling_strategy=1.0)),\n",
       "                ['classifier', LogisticRegression()]])"
      ]
     },
     "execution_count": 20,
     "metadata": {},
     "output_type": "execute_result"
    }
   ],
   "source": [
    "\n",
    "pipeline = imbpipeline(steps = [['tfidf', TfidfVectorizer(max_features=10000, ngram_range=(1, 3))],\n",
    "                                ['smote', SMOTE(random_state = 18, sampling_strategy = 1.0)],\n",
    "                                ['classifier', LogisticRegression()]])\n",
    "                          \n",
    "pipeline.fit(train.title, train.label)"
   ]
  },
  {
   "cell_type": "code",
   "execution_count": 21,
   "metadata": {},
   "outputs": [
    {
     "name": "stdout",
     "output_type": "stream",
     "text": [
      "Possible Fake News\n"
     ]
    }
   ],
   "source": [
    "\n",
    "check = pipeline.predict(['BREAKING: FIFA Declares Bankruptcy Over Lack Of Sponsorships'])\n",
    "\n",
    "out = \"Possible Fake News\" if check==1 else \"Possible Real News\"\n",
    "print(out)"
   ]
  },
  {
   "cell_type": "code",
   "execution_count": 22,
   "metadata": {},
   "outputs": [
    {
     "data": {
      "text/plain": [
       "['fake_news_classification.joblib']"
      ]
     },
     "execution_count": 22,
     "metadata": {},
     "output_type": "execute_result"
    }
   ],
   "source": [
    "# Dump the pipeline model\n",
    "dump(pipeline, filename = \"fake_news_classification.joblib\")"
   ]
  }
 ],
 "metadata": {
  "interpreter": {
   "hash": "11c1db382d52df6fba831bfa4a2ae7127b83b9dcc5f5fc2b16405e38bb46b2fc"
  },
  "kernelspec": {
   "display_name": "Python 3.8.5 64-bit ('venv': venv)",
   "name": "python3"
  },
  "language_info": {
   "codemirror_mode": {
    "name": "ipython",
    "version": 3
   },
   "file_extension": ".py",
   "mimetype": "text/x-python",
   "name": "python",
   "nbconvert_exporter": "python",
   "pygments_lexer": "ipython3",
   "version": "3.11.4"
  },
  "orig_nbformat": 4
 },
 "nbformat": 4,
 "nbformat_minor": 2
}
